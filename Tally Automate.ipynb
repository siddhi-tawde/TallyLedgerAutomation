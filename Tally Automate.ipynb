{
 "cells": [
  {
   "cell_type": "markdown",
   "id": "0ca65f2b",
   "metadata": {},
   "source": [
    "## STEP BY STEP GUIDE TO TALLY AUTOMATION"
   ]
  },
  {
   "cell_type": "markdown",
   "id": "d1c666dd",
   "metadata": {},
   "source": [
    "## PART A: Understanding the Excel COnnectivity"
   ]
  },
  {
   "cell_type": "code",
   "execution_count": 2,
   "id": "ad3cddf9",
   "metadata": {
    "collapsed": true
   },
   "outputs": [
    {
     "name": "stdout",
     "output_type": "stream",
     "text": [
      "Nexus Solutions\n",
      "Sundry Debtors\n",
      "2782\n",
      "Stellar Innovations Ltd\n",
      "Sundry Debtors\n",
      "2696\n",
      "Horizon Enterprises Pvt Ltd\n",
      "Sundry Debtors\n",
      "3554\n",
      "Apex Ventures Ltd\n",
      "Sundry Debtors\n",
      "2651\n",
      "Quantum Dynamics Pvt Ltd\n",
      "Sundry Debtors\n",
      "1780\n",
      "Zenith Enterprises Ltd\n",
      "Sundry Debtors\n",
      "3153\n",
      "InnovateX Pvt Ltd\n",
      "Sundry Debtors\n",
      "3379\n",
      "Delta Technologies Ltd\n",
      "Sundry Creditors\n",
      "1841\n",
      "Skyline Investments Pvt Ltd\n",
      "Sundry Creditors\n",
      "3372\n",
      "Blue Ocean Solutions Ltd\n",
      "Sundry Creditors\n",
      "1940\n",
      "Vertex Solutions Pvt Ltd\n",
      "Sundry Creditors\n",
      "2416\n",
      "Acme Innovations Ltd\n",
      "Sundry Creditors\n",
      "2953\n",
      "Titan Ventures Pvt Ltd\n",
      "Sundry Creditors\n",
      "3206\n",
      "Galaxy Enterprises Ltd\n",
      "Sundry Creditors\n",
      "1531\n",
      "Nova Dynamics Pvt Ltd\n",
      "Sundry Creditors\n",
      "2665\n"
     ]
    }
   ],
   "source": [
    "\n",
    "\n",
    "# Importing the pandas library and renaming it as pd\n",
    "import pandas as pd\n",
    "\n",
    "\n",
    "# Defining the path of the Excel file to be read\n",
    "excel_path=r\"D:\\My Drive\\Eff_Corp_YT_2.0\\FILES CONTENT\\Mar 23\\VID 2013\\BASE FILE FOR DEMO TALLY ENTRY.xlsx\"\n",
    "\n",
    "\n",
    "# Reading the Excel file and assigning the contents of sheet \"MAIN\" to a DataFrame named df\n",
    "df=pd.read_excel(excel_path,sheet_name=\"MAIN\")\n",
    "\n",
    "\n",
    "# Extracting the values in the \"Party_Name\" column of the DataFrame and assigning them to a variable named party_name\n",
    "party_name=df[\"Party_Name\"].values\n",
    "\n",
    "\n",
    "# Extracting the values in the \"Under\" column of the DataFrame and assigning them to a variable named category\n",
    "category=df[\"Under\"].values\n",
    "\n",
    "\n",
    "# Extracting the values in the \"Opening Balance\" column of the DataFrame and assigning them to a variable named amount\n",
    "amount=df[\"Opening Balance\"].values\n",
    "\n",
    "\n",
    "# Zipping together the values in party_name, category, and amount into tuples and assigning them to a variable named zipped\n",
    "zipped=zip(party_name,category,amount)\n",
    "\n",
    "\n",
    "# Iterating over each tuple in zipped and printing the value of a, b, and c (which correspond to party_name, category, and amount, respectively)\n",
    "for (a,b,c) in zipped:\n",
    "    print(a)\n",
    "    print(b)\n",
    "    print(c)\n",
    "\n",
    "    \n",
    "    "
   ]
  },
  {
   "cell_type": "markdown",
   "id": "5ac4bb6f",
   "metadata": {},
   "source": [
    "## PART B: UNDERSTANDING KEYBOARD SIMULATIONS "
   ]
  },
  {
   "cell_type": "code",
   "execution_count": 3,
   "id": "09e4b631",
   "metadata": {},
   "outputs": [],
   "source": [
    "#Using the PyautoGui Library\n",
    "\n",
    "import pyautogui as pg\n",
    "import time\n",
    "\n",
    "\n",
    "#Making the Program not to Run for few seconds\n",
    "time.sleep(5)\n",
    "\n",
    "\n",
    "pg.press(\"C\")\n",
    "\n",
    "pg.typewrite(\"Ledger\")\n",
    "\n",
    "pg.press(\"enter\")\n",
    "\n",
    "for i in range(0,10):\n",
    "    pg.typewrite(\"Auto Writing\")\n",
    "    pg.press(\"enter\")\n",
    "    pg.typewrite(f\"I am writing this for{i} time \")\n",
    "    pg.press(\"enter\")\n",
    "    pg.press(\"enter\")\n",
    "    "
   ]
  },
  {
   "cell_type": "code",
   "execution_count": null,
   "id": "580e993e",
   "metadata": {},
   "outputs": [],
   "source": []
  },
  {
   "cell_type": "markdown",
   "id": "b54952eb",
   "metadata": {},
   "source": [
    "## FINAL PART: COMBINE EXCEL + KEYBOARD SIMULATION"
   ]
  },
  {
   "cell_type": "code",
   "execution_count": 5,
   "id": "05e315db",
   "metadata": {},
   "outputs": [],
   "source": [
    "time.sleep(3)\n",
    "\n",
    "excel_path=r\"D:\\My Drive\\Eff_Corp_YT_2.0\\FILES CONTENT\\Mar 23\\VID 2013\\BASE FILE FOR DEMO TALLY ENTRY.xlsx\"\n",
    "\n",
    "df=pd.read_excel(excel_path,sheet_name=\"MAIN\")\n",
    "party_name=df[\"Party_Name\"].values\n",
    "category=df[\"Under\"].values\n",
    "amount=df[\"Opening Balance\"].values\n",
    "\n",
    "zipped=zip(party_name,category,amount)\n",
    "\n",
    "for (a,b,c) in zipped:\n",
    "    \n",
    "    pg.typewrite(a)\n",
    "    pg.press(\"enter\")\n",
    "    pg.typewrite(b)\n",
    "    pg.press(\"enter\")\n",
    "    pg.typewrite(str(c))\n",
    "    pg.press(\"enter\")\n",
    "    pg.press(\"enter\")\n"
   ]
  },
  {
   "cell_type": "code",
   "execution_count": null,
   "id": "0de7cc2c",
   "metadata": {},
   "outputs": [],
   "source": [
    "Nexus Solutions\n",
    "Sundry Debtors\n",
    "2782\n",
    "\n",
    "Stellar Innovations Ltd\n",
    "Sundry Debtors\n",
    "2696\n",
    "\n",
    "Horizon Enterprises Pvt Ltd\n",
    "Sundry Debtors\n",
    "3554\n",
    "\n",
    "Apex Ventures Ltd\n",
    "Sundry Debtors\n",
    "2651\n",
    "\n",
    "Quantum Dynamics Pvt Ltd\n",
    "Sundry Debtors\n",
    "1780\n",
    "\n",
    "Zenith Enterprises Ltd\n",
    "Sundry Debtors\n",
    "3153\n",
    "\n",
    "InnovateX Pvt Ltd\n",
    "Sundry Debtors\n",
    "3379\n",
    "\n",
    "Delta Technologies Ltd\n",
    "Sundry Creditors\n",
    "1841\n",
    "\n",
    "Skyline Investments Pvt Ltd\n",
    "Sundry Creditors\n",
    "3372\n",
    "\n",
    "Blue Ocean Solutions Ltd\n",
    "Sundry Creditors\n",
    "1940\n",
    "\n",
    "Vertex Solutions Pvt Ltd\n",
    "Sundry Creditors\n",
    "2416\n",
    "\n",
    "Acme Innovations Ltd\n",
    "Sundry Creditors\n",
    "2953\n",
    "\n",
    "Titan Ventures Pvt Ltd\n",
    "Sundry Creditors\n",
    "3206\n",
    "\n",
    "Galaxy Enterprises Ltd\n",
    "Sundry Creditors\n",
    "1531\n",
    "\n",
    "Nova Dynamics Pvt Ltd\n",
    "Sundry Creditors\n",
    "2665\n",
    "\n"
   ]
  },
  {
   "cell_type": "markdown",
   "id": "b5e14bbc",
   "metadata": {},
   "source": [
    "### ADDING A BIT OF SALT:  i.e TIME SLEEP , so that the Programs Does not Crash"
   ]
  },
  {
   "cell_type": "markdown",
   "id": "f6b97583",
   "metadata": {},
   "source": [
    "### LET'S SEE THE FINAL CODE IN ACTION...!! "
   ]
  },
  {
   "cell_type": "code",
   "execution_count": null,
   "id": "bfa04ba9",
   "metadata": {},
   "outputs": [],
   "source": []
  }
 ],
 "metadata": {
  "kernelspec": {
   "display_name": "Python 3 (ipykernel)",
   "language": "python",
   "name": "python3"
  },
  "language_info": {
   "codemirror_mode": {
    "name": "ipython",
    "version": 3
   },
   "file_extension": ".py",
   "mimetype": "text/x-python",
   "name": "python",
   "nbconvert_exporter": "python",
   "pygments_lexer": "ipython3",
   "version": "3.9.5"
  }
 },
 "nbformat": 4,
 "nbformat_minor": 5
}
